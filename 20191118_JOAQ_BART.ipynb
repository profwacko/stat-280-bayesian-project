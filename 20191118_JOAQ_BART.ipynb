{
 "cells": [
  {
   "cell_type": "markdown",
   "metadata": {},
   "source": [
    "# SETUP"
   ]
  },
  {
   "cell_type": "markdown",
   "metadata": {},
   "source": [
    "## Loading Library"
   ]
  },
  {
   "cell_type": "code",
   "execution_count": 64,
   "metadata": {
    "ExecuteTime": {
     "end_time": "2019-11-17T17:12:36.605071Z",
     "start_time": "2019-11-17T17:12:32.863Z"
    }
   },
   "outputs": [],
   "source": [
    "#install.packages(\"caret\")\n",
    "#install.packages(\"tidyverse\")\n",
    "#install.packages(\"bartMachine\")\n",
    "#install.packages(\"doParallel\")\n",
    "library(caret)\n",
    "library(tidyverse)\n",
    "library(bartMachine)"
   ]
  },
  {
   "cell_type": "code",
   "execution_count": 43,
   "metadata": {
    "ExecuteTime": {
     "end_time": "2019-11-17T17:13:13.261532Z",
     "start_time": "2019-11-17T17:13:11.809Z"
    }
   },
   "outputs": [
    {
     "name": "stdout",
     "output_type": "stream",
     "text": [
      "[1] 16\n"
     ]
    }
   ],
   "source": [
    "#Include the parallel library. If the next line does not work, run install.packages(“parallel”) first\n",
    "library(parallel)\n",
    "library(doParallel)\n",
    "\n",
    "# Use the detectCores() function to find the number of cores in system\n",
    "n_cores <- detectCores()\n",
    "print(n_cores)\n",
    "cl <- makePSOCKcluster(n_cores)\n",
    "#registerDoParallel(cl)\n",
    "#stopCluster(cl)"
   ]
  },
  {
   "cell_type": "markdown",
   "metadata": {},
   "source": [
    "## Loading Data"
   ]
  },
  {
   "cell_type": "code",
   "execution_count": 44,
   "metadata": {
    "ExecuteTime": {
     "end_time": "2019-11-17T17:13:25.688427Z",
     "start_time": "2019-11-17T17:13:25.608Z"
    }
   },
   "outputs": [
    {
     "name": "stderr",
     "output_type": "stream",
     "text": [
      "Warning message:\n",
      "“Missing column names filled in: 'X1' [1]”Parsed with column specification:\n",
      "cols(\n",
      "  X1 = \u001b[32mcol_double()\u001b[39m,\n",
      "  Country = \u001b[31mcol_character()\u001b[39m,\n",
      "  Region = \u001b[31mcol_character()\u001b[39m,\n",
      "  `Happiness Rank` = \u001b[32mcol_double()\u001b[39m,\n",
      "  `Happiness Score` = \u001b[32mcol_double()\u001b[39m,\n",
      "  `Economy (GDP per Capita)` = \u001b[32mcol_double()\u001b[39m,\n",
      "  Family = \u001b[32mcol_double()\u001b[39m,\n",
      "  `Health (Life Expectancy)` = \u001b[32mcol_double()\u001b[39m,\n",
      "  Freedom = \u001b[32mcol_double()\u001b[39m,\n",
      "  `Trust (Government Corruption)` = \u001b[32mcol_double()\u001b[39m,\n",
      "  Generosity = \u001b[32mcol_double()\u001b[39m,\n",
      "  `Dystopia Residual` = \u001b[32mcol_double()\u001b[39m,\n",
      "  year = \u001b[32mcol_double()\u001b[39m,\n",
      "  nyears = \u001b[32mcol_double()\u001b[39m\n",
      ")\n"
     ]
    }
   ],
   "source": [
    "happiness.df <- read_csv(file=\"datasets/world-happiness/happiness.csv\")\n",
    "colnames(happiness.df) <- make.names(colnames(happiness.df) %>%  tolower)"
   ]
  },
  {
   "cell_type": "markdown",
   "metadata": {},
   "source": [
    "We can get the train-test split using createDataPartition from caret:"
   ]
  },
  {
   "cell_type": "code",
   "execution_count": 45,
   "metadata": {
    "ExecuteTime": {
     "end_time": "2019-11-17T17:13:28.132608Z",
     "start_time": "2019-11-17T17:13:28.103Z"
    }
   },
   "outputs": [],
   "source": [
    "happiness.df <- happiness.df %>% select_if(is_double) %>% select(-c(x1,happiness.rank))"
   ]
  },
  {
   "cell_type": "code",
   "execution_count": 46,
   "metadata": {
    "ExecuteTime": {
     "end_time": "2019-11-17T17:13:28.499699Z",
     "start_time": "2019-11-17T17:13:28.462Z"
    }
   },
   "outputs": [],
   "source": [
    "set.seed(42)\n",
    "trainIndex <- createDataPartition(happiness.df$`happiness.score`, p = 0.9, list = FALSE)\n",
    "happy.train <- happiness.df[ trainIndex,]\n",
    "happy.test  <- happiness.df[-trainIndex,]"
   ]
  },
  {
   "cell_type": "markdown",
   "metadata": {},
   "source": [
    "## bartMachine"
   ]
  },
  {
   "cell_type": "code",
   "execution_count": 61,
   "metadata": {
    "ExecuteTime": {
     "end_time": "2019-11-17T17:13:29.487035Z",
     "start_time": "2019-11-17T17:13:29.463Z"
    }
   },
   "outputs": [],
   "source": [
    "registerDoParallel(cl)"
   ]
  },
  {
   "cell_type": "code",
   "execution_count": 48,
   "metadata": {},
   "outputs": [
    {
     "name": "stdout",
     "output_type": "stream",
     "text": [
      "bartMachine now using 16 cores.\n"
     ]
    }
   ],
   "source": [
    "set_bart_machine_num_cores(n_cores)"
   ]
  },
  {
   "cell_type": "markdown",
   "metadata": {},
   "source": [
    "Training: Run in 1hr 16 minutes on 4 cores:"
   ]
  },
  {
   "cell_type": "code",
   "execution_count": 49,
   "metadata": {
    "ExecuteTime": {
     "end_time": "2019-11-17T18:30:08.849858Z",
     "start_time": "2019-11-17T17:14:05.537Z"
    }
   },
   "outputs": [
    {
     "name": "stdout",
     "output_type": "stream",
     "text": [
      "bartMachine initializing with 50 trees...\n",
      "bartMachine vars checked...\n",
      "bartMachine java init...\n",
      "bartMachine factors created...\n",
      "bartMachine before preprocess...\n",
      "bartMachine after preprocess... 10 total features...\n",
      "bartMachine sigsq estimated...\n",
      "bartMachine training data finalized...\n",
      "Now building bartMachine for regression ...\n",
      "evaluating in sample data...done\n",
      "serializing in order to be saved for future R sessions...done\n"
     ]
    }
   ],
   "source": [
    "t.start <- Sys.time()\n",
    "happy.bm <- train(happiness.score ~ ., data = happy.train, \n",
    "                 method = \"bartMachine\", \n",
    "                 verbose = TRUE,\n",
    "                 serialize = TRUE)\n",
    "t.final <- Sys.time() - t.start"
   ]
  },
  {
   "cell_type": "code",
   "execution_count": 50,
   "metadata": {},
   "outputs": [
    {
     "name": "stdout",
     "output_type": "stream",
     "text": [
      "Time difference of 15.89687 mins\n"
     ]
    }
   ],
   "source": [
    "print(t.final)"
   ]
  },
  {
   "cell_type": "code",
   "execution_count": 51,
   "metadata": {},
   "outputs": [
    {
     "name": "stdout",
     "output_type": "stream",
     "text": [
      "bartMachine v1.2.3 for regression\n",
      "\n",
      "training data n = 426 and p = 9 \n",
      "built in 2.3 secs on 16 cores, 50 trees, 250 burn-in and 1000 post. samples\n",
      "\n",
      "sigsq est for y beforehand: 0 \n",
      "avg sigsq estimate after burn-in: 0.00606 \n",
      "\n",
      "in-sample statistics:\n",
      " L1 = 8.81 \n",
      " L2 = 0.34 \n",
      " rmse = 0.03 \n",
      " Pseudo-Rsq = 0.9994\n",
      "p-val for shapiro-wilk test of normality of residuals: 0 \n",
      "p-val for zero-mean noise: 0.98289 \n",
      "\n"
     ]
    }
   ],
   "source": [
    "summary(happy.bm)"
   ]
  },
  {
   "cell_type": "code",
   "execution_count": 52,
   "metadata": {},
   "outputs": [],
   "source": [
    " backup <-happy.bm"
   ]
  },
  {
   "cell_type": "code",
   "execution_count": 53,
   "metadata": {},
   "outputs": [],
   "source": [
    "saveRDS(happy.bm,file = \"model_files/20191118_bart_model.RDS\")"
   ]
  },
  {
   "cell_type": "code",
   "execution_count": 54,
   "metadata": {},
   "outputs": [],
   "source": [
    "happy.bm.read <- readRDS(file = \"model_files/20191118_bart_model.RDS\")"
   ]
  },
  {
   "cell_type": "code",
   "execution_count": 35,
   "metadata": {},
   "outputs": [],
   "source": [
    "load(\"model_files/20191118_bart_model_save.RDS\")"
   ]
  },
  {
   "cell_type": "code",
   "execution_count": 55,
   "metadata": {
    "ExecuteTime": {
     "end_time": "2019-11-17T18:51:49.451624Z",
     "start_time": "2019-11-17T18:51:49.417Z"
    }
   },
   "outputs": [
    {
     "name": "stdout",
     "output_type": "stream",
     "text": [
      "bartMachine v1.2.3 for regression\n",
      "\n",
      "training data n = 426 and p = 9 \n",
      "built in 2.3 secs on 16 cores, 50 trees, 250 burn-in and 1000 post. samples\n",
      "\n",
      "sigsq est for y beforehand: 0 \n",
      "avg sigsq estimate after burn-in: 0.00606 \n",
      "\n",
      "in-sample statistics:\n",
      " L1 = 8.81 \n",
      " L2 = 0.34 \n",
      " rmse = 0.03 \n",
      " Pseudo-Rsq = 0.9994\n",
      "p-val for shapiro-wilk test of normality of residuals: 0 \n",
      "p-val for zero-mean noise: 0.98289 \n",
      "\n"
     ]
    }
   ],
   "source": [
    "summary(happy.bm.read)"
   ]
  },
  {
   "cell_type": "code",
   "execution_count": 56,
   "metadata": {
    "ExecuteTime": {
     "end_time": "2019-11-17T18:47:33.372762Z",
     "start_time": "2019-11-17T18:47:33.228Z"
    }
   },
   "outputs": [
    {
     "data": {
      "text/html": [
       "<ol class=list-inline>\n",
       "\t<li>6.84140604613868</li>\n",
       "\t<li>6.66221651259179</li>\n",
       "\t<li>6.56992219976306</li>\n",
       "\t<li>6.49713962364482</li>\n",
       "\t<li>6.41197491055741</li>\n",
       "\t<li>6.28363266573291</li>\n",
       "\t<li>5.96794957303678</li>\n",
       "\t<li>5.95927452826069</li>\n",
       "\t<li>5.8201224572193</li>\n",
       "\t<li>5.11691525984739</li>\n",
       "\t<li>4.89269251751848</li>\n",
       "\t<li>4.92313756987505</li>\n",
       "\t<li>4.54667458798951</li>\n",
       "\t<li>7.01979689958366</li>\n",
       "\t<li>6.71597377383499</li>\n",
       "\t<li>6.62729465130031</li>\n",
       "\t<li>6.27223938278788</li>\n",
       "\t<li>6.09100259999354</li>\n",
       "\t<li>6.00102380351519</li>\n",
       "\t<li>5.82673838161049</li>\n",
       "\t<li>5.5330171144682</li>\n",
       "\t<li>5.40389304227579</li>\n",
       "\t<li>5.18926416431801</li>\n",
       "\t<li>5.22295612436256</li>\n",
       "\t<li>4.38136298543042</li>\n",
       "\t<li>4.35394760434666</li>\n",
       "\t<li>4.20447491626845</li>\n",
       "\t<li>4.18917885960603</li>\n",
       "\t<li>3.96198187394694</li>\n",
       "\t<li>3.978234815493</li>\n",
       "\t<li>3.83511607040144</li>\n",
       "\t<li>3.24101699457128</li>\n",
       "\t<li>6.96436735521697</li>\n",
       "\t<li>5.85075758958151</li>\n",
       "\t<li>5.82399076195153</li>\n",
       "\t<li>5.59476438695355</li>\n",
       "\t<li>5.28088517278198</li>\n",
       "\t<li>4.78981318540769</li>\n",
       "\t<li>4.7223707191455</li>\n",
       "\t<li>4.60583464005285</li>\n",
       "\t<li>4.55147041912127</li>\n",
       "\t<li>4.3071902876821</li>\n",
       "\t<li>4.28140641340428</li>\n",
       "\t<li>3.67438352217032</li>\n",
       "</ol>\n"
      ],
      "text/latex": [
       "\\begin{enumerate*}\n",
       "\\item 6.84140604613868\n",
       "\\item 6.66221651259179\n",
       "\\item 6.56992219976306\n",
       "\\item 6.49713962364482\n",
       "\\item 6.41197491055741\n",
       "\\item 6.28363266573291\n",
       "\\item 5.96794957303678\n",
       "\\item 5.95927452826069\n",
       "\\item 5.8201224572193\n",
       "\\item 5.11691525984739\n",
       "\\item 4.89269251751848\n",
       "\\item 4.92313756987505\n",
       "\\item 4.54667458798951\n",
       "\\item 7.01979689958366\n",
       "\\item 6.71597377383499\n",
       "\\item 6.62729465130031\n",
       "\\item 6.27223938278788\n",
       "\\item 6.09100259999354\n",
       "\\item 6.00102380351519\n",
       "\\item 5.82673838161049\n",
       "\\item 5.5330171144682\n",
       "\\item 5.40389304227579\n",
       "\\item 5.18926416431801\n",
       "\\item 5.22295612436256\n",
       "\\item 4.38136298543042\n",
       "\\item 4.35394760434666\n",
       "\\item 4.20447491626845\n",
       "\\item 4.18917885960603\n",
       "\\item 3.96198187394694\n",
       "\\item 3.978234815493\n",
       "\\item 3.83511607040144\n",
       "\\item 3.24101699457128\n",
       "\\item 6.96436735521697\n",
       "\\item 5.85075758958151\n",
       "\\item 5.82399076195153\n",
       "\\item 5.59476438695355\n",
       "\\item 5.28088517278198\n",
       "\\item 4.78981318540769\n",
       "\\item 4.7223707191455\n",
       "\\item 4.60583464005285\n",
       "\\item 4.55147041912127\n",
       "\\item 4.3071902876821\n",
       "\\item 4.28140641340428\n",
       "\\item 3.67438352217032\n",
       "\\end{enumerate*}\n"
      ],
      "text/markdown": [
       "1. 6.84140604613868\n",
       "2. 6.66221651259179\n",
       "3. 6.56992219976306\n",
       "4. 6.49713962364482\n",
       "5. 6.41197491055741\n",
       "6. 6.28363266573291\n",
       "7. 5.96794957303678\n",
       "8. 5.95927452826069\n",
       "9. 5.8201224572193\n",
       "10. 5.11691525984739\n",
       "11. 4.89269251751848\n",
       "12. 4.92313756987505\n",
       "13. 4.54667458798951\n",
       "14. 7.01979689958366\n",
       "15. 6.71597377383499\n",
       "16. 6.62729465130031\n",
       "17. 6.27223938278788\n",
       "18. 6.09100259999354\n",
       "19. 6.00102380351519\n",
       "20. 5.82673838161049\n",
       "21. 5.5330171144682\n",
       "22. 5.40389304227579\n",
       "23. 5.18926416431801\n",
       "24. 5.22295612436256\n",
       "25. 4.38136298543042\n",
       "26. 4.35394760434666\n",
       "27. 4.20447491626845\n",
       "28. 4.18917885960603\n",
       "29. 3.96198187394694\n",
       "30. 3.978234815493\n",
       "31. 3.83511607040144\n",
       "32. 3.24101699457128\n",
       "33. 6.96436735521697\n",
       "34. 5.85075758958151\n",
       "35. 5.82399076195153\n",
       "36. 5.59476438695355\n",
       "37. 5.28088517278198\n",
       "38. 4.78981318540769\n",
       "39. 4.7223707191455\n",
       "40. 4.60583464005285\n",
       "41. 4.55147041912127\n",
       "42. 4.3071902876821\n",
       "43. 4.28140641340428\n",
       "44. 3.67438352217032\n",
       "\n",
       "\n"
      ],
      "text/plain": [
       " [1] 6.841406 6.662217 6.569922 6.497140 6.411975 6.283633 5.967950 5.959275\n",
       " [9] 5.820122 5.116915 4.892693 4.923138 4.546675 7.019797 6.715974 6.627295\n",
       "[17] 6.272239 6.091003 6.001024 5.826738 5.533017 5.403893 5.189264 5.222956\n",
       "[25] 4.381363 4.353948 4.204475 4.189179 3.961982 3.978235 3.835116 3.241017\n",
       "[33] 6.964367 5.850758 5.823991 5.594764 5.280885 4.789813 4.722371 4.605835\n",
       "[41] 4.551470 4.307190 4.281406 3.674384"
      ]
     },
     "metadata": {},
     "output_type": "display_data"
    }
   ],
   "source": [
    "predict(happy.bm.read,newdata = happy.test)"
   ]
  },
  {
   "cell_type": "code",
   "execution_count": 63,
   "metadata": {
    "ExecuteTime": {
     "end_time": "2019-11-17T18:48:42.790805Z",
     "start_time": "2019-11-17T18:48:42.764Z"
    }
   },
   "outputs": [
    {
     "ename": "ERROR",
     "evalue": "Error in summary.connection(connection): invalid connection\n",
     "output_type": "error",
     "traceback": [
      "Error in summary.connection(connection): invalid connection\nTraceback:\n",
      "1. stopCluster(cl)",
      "2. stopCluster.default(cl)",
      "3. stopNode(n)",
      "4. postNode(n, \"DONE\")",
      "5. sendData(con, list(type = type, data = value, tag = tag))",
      "6. sendData.SOCKnode(con, list(type = type, data = value, tag = tag))",
      "7. serialize(data, node$con)",
      "8. summary(connection)",
      "9. summary.connection(connection)"
     ]
    }
   ],
   "source": [
    "stopCluster(cl)"
   ]
  },
  {
   "cell_type": "code",
   "execution_count": 62,
   "metadata": {
    "ExecuteTime": {
     "end_time": "2019-11-17T18:53:05.779129Z",
     "start_time": "2019-11-17T18:53:02.713Z"
    }
   },
   "outputs": [
    {
     "name": "stdout",
     "output_type": "stream",
     "text": [
      ".....\n"
     ]
    },
    {
     "data": {
      "text/plain": [
       "bartMachine variable importance\n",
       "\n",
       "                              Overall\n",
       "dystopia.residual             100.000\n",
       "economy..gdp.per.capita.       61.131\n",
       "family                         53.821\n",
       "health..life.expectancy.       43.526\n",
       "freedom                        35.008\n",
       "generosity                     25.862\n",
       "trust..government.corruption.  23.120\n",
       "nyears                          5.119\n",
       "year                            0.000"
      ]
     },
     "metadata": {},
     "output_type": "display_data"
    }
   ],
   "source": [
    "varImp(happy.bm.read)"
   ]
  },
  {
   "cell_type": "code",
   "execution_count": null,
   "metadata": {},
   "outputs": [],
   "source": []
  }
 ],
 "metadata": {
  "kernelspec": {
   "display_name": "R",
   "language": "R",
   "name": "ir"
  },
  "language_info": {
   "codemirror_mode": "r",
   "file_extension": ".r",
   "mimetype": "text/x-r-source",
   "name": "R",
   "pygments_lexer": "r",
   "version": "3.6.1"
  },
  "toc": {
   "base_numbering": 1,
   "nav_menu": {},
   "number_sections": true,
   "sideBar": true,
   "skip_h1_title": false,
   "title_cell": "Table of Contents",
   "title_sidebar": "Contents",
   "toc_cell": false,
   "toc_position": {},
   "toc_section_display": true,
   "toc_window_display": false
  }
 },
 "nbformat": 4,
 "nbformat_minor": 4
}
