{
 "cells": [
  {
   "cell_type": "markdown",
   "metadata": {},
   "source": [
    "# SETUP"
   ]
  },
  {
   "cell_type": "markdown",
   "metadata": {},
   "source": [
    "## Loading Library"
   ]
  },
  {
   "cell_type": "code",
   "execution_count": 1,
   "metadata": {
    "ExecuteTime": {
     "end_time": "2019-11-17T17:12:36.605071Z",
     "start_time": "2019-11-17T17:12:32.863Z"
    }
   },
   "outputs": [
    {
     "name": "stderr",
     "output_type": "stream",
     "text": [
      "Loading required package: nlme\n",
      "Loading required package: nnet\n",
      "Loading required package: survival\n",
      "Loading required package: lattice\n",
      "Loading required package: ggplot2\n",
      "Registered S3 methods overwritten by 'ggplot2':\n",
      "  method         from \n",
      "  [.quosures     rlang\n",
      "  c.quosures     rlang\n",
      "  print.quosures rlang\n",
      "\n",
      "Attaching package: ‘caret’\n",
      "\n",
      "The following object is masked from ‘package:survival’:\n",
      "\n",
      "    cluster\n",
      "\n",
      "Registered S3 method overwritten by 'rvest':\n",
      "  method            from\n",
      "  read_xml.response xml2\n",
      "── \u001b[1mAttaching packages\u001b[22m ─────────────────────────────────────── tidyverse 1.2.1 ──\n",
      "\u001b[32m✔\u001b[39m \u001b[34mtibble \u001b[39m 2.1.1       \u001b[32m✔\u001b[39m \u001b[34mpurrr  \u001b[39m 0.3.2  \n",
      "\u001b[32m✔\u001b[39m \u001b[34mtidyr  \u001b[39m 0.8.3       \u001b[32m✔\u001b[39m \u001b[34mdplyr  \u001b[39m 0.8.0.\u001b[31m1\u001b[39m\n",
      "\u001b[32m✔\u001b[39m \u001b[34mreadr  \u001b[39m 1.3.1       \u001b[32m✔\u001b[39m \u001b[34mstringr\u001b[39m 1.4.0  \n",
      "\u001b[32m✔\u001b[39m \u001b[34mtibble \u001b[39m 2.1.1       \u001b[32m✔\u001b[39m \u001b[34mforcats\u001b[39m 0.4.0  \n",
      "── \u001b[1mConflicts\u001b[22m ────────────────────────────────────────── tidyverse_conflicts() ──\n",
      "\u001b[31m✖\u001b[39m \u001b[34mdplyr\u001b[39m::\u001b[32mcollapse()\u001b[39m masks \u001b[34mnlme\u001b[39m::collapse()\n",
      "\u001b[31m✖\u001b[39m \u001b[34mdplyr\u001b[39m::\u001b[32mfilter()\u001b[39m   masks \u001b[34mstats\u001b[39m::filter()\n",
      "\u001b[31m✖\u001b[39m \u001b[34mdplyr\u001b[39m::\u001b[32mlag()\u001b[39m      masks \u001b[34mstats\u001b[39m::lag()\n",
      "\u001b[31m✖\u001b[39m \u001b[34mpurrr\u001b[39m::\u001b[32mlift()\u001b[39m     masks \u001b[34mcaret\u001b[39m::lift()\n",
      "Loading required package: rJava\n",
      "Loading required package: bartMachineJARs\n",
      "Loading required package: car\n",
      "Loading required package: carData\n",
      "\n",
      "Attaching package: ‘car’\n",
      "\n",
      "The following object is masked from ‘package:dplyr’:\n",
      "\n",
      "    recode\n",
      "\n",
      "The following object is masked from ‘package:purrr’:\n",
      "\n",
      "    some\n",
      "\n",
      "Loading required package: randomForest\n",
      "randomForest 4.6-14\n",
      "Type rfNews() to see new features/changes/bug fixes.\n",
      "\n",
      "Attaching package: ‘randomForest’\n",
      "\n",
      "The following object is masked from ‘package:dplyr’:\n",
      "\n",
      "    combine\n",
      "\n",
      "The following object is masked from ‘package:ggplot2’:\n",
      "\n",
      "    margin\n",
      "\n",
      "Loading required package: missForest\n",
      "Loading required package: foreach\n",
      "\n",
      "Attaching package: ‘foreach’\n",
      "\n",
      "The following objects are masked from ‘package:purrr’:\n",
      "\n",
      "    accumulate, when\n",
      "\n",
      "Loading required package: itertools\n",
      "Loading required package: iterators\n",
      "Welcome to bartMachine v1.2.3! You have 0.48GB memory available.\n",
      "\n",
      "If you run out of memory, restart R, and use e.g.\n",
      "'options(java.parameters = \"-Xmx5g\")' for 5GB of RAM before you call\n",
      "'library(bartMachine)'.\n",
      "\n"
     ]
    }
   ],
   "source": [
    "#install.packages(\"BART\")\n",
    "#install.packages(\"bartMachine\")\n",
    "#install.packages(\"doParallel\")\n",
    "library(BART)\n",
    "library(caret)\n",
    "library(tidyverse)\n",
    "library(bartMachine)"
   ]
  },
  {
   "cell_type": "code",
   "execution_count": 2,
   "metadata": {
    "ExecuteTime": {
     "end_time": "2019-11-17T17:13:13.261532Z",
     "start_time": "2019-11-17T17:13:11.809Z"
    }
   },
   "outputs": [
    {
     "name": "stdout",
     "output_type": "stream",
     "text": [
      "[1] 4\n"
     ]
    }
   ],
   "source": [
    "#Include the parallel library. If the next line does not work, run install.packages(“parallel”) first\n",
    "library(parallel)\n",
    "library(doParallel)\n",
    "\n",
    "# Use the detectCores() function to find the number of cores in system\n",
    "n_cores <- detectCores()\n",
    "print(n_cores)\n",
    "cl <- makePSOCKcluster(4)\n",
    "registerDoParallel(cl)\n",
    "stopCluster(cl)"
   ]
  },
  {
   "cell_type": "markdown",
   "metadata": {},
   "source": [
    "## Loading Data"
   ]
  },
  {
   "cell_type": "code",
   "execution_count": 3,
   "metadata": {
    "ExecuteTime": {
     "end_time": "2019-11-17T17:13:25.688427Z",
     "start_time": "2019-11-17T17:13:25.608Z"
    }
   },
   "outputs": [
    {
     "name": "stderr",
     "output_type": "stream",
     "text": [
      "Warning message:\n",
      "“Missing column names filled in: 'X1' [1]”Parsed with column specification:\n",
      "cols(\n",
      "  X1 = \u001b[32mcol_double()\u001b[39m,\n",
      "  Country = \u001b[31mcol_character()\u001b[39m,\n",
      "  Region = \u001b[31mcol_character()\u001b[39m,\n",
      "  `Happiness Rank` = \u001b[32mcol_double()\u001b[39m,\n",
      "  `Happiness Score` = \u001b[32mcol_double()\u001b[39m,\n",
      "  `Economy (GDP per Capita)` = \u001b[32mcol_double()\u001b[39m,\n",
      "  Family = \u001b[32mcol_double()\u001b[39m,\n",
      "  `Health (Life Expectancy)` = \u001b[32mcol_double()\u001b[39m,\n",
      "  Freedom = \u001b[32mcol_double()\u001b[39m,\n",
      "  `Trust (Government Corruption)` = \u001b[32mcol_double()\u001b[39m,\n",
      "  Generosity = \u001b[32mcol_double()\u001b[39m,\n",
      "  `Dystopia Residual` = \u001b[32mcol_double()\u001b[39m,\n",
      "  year = \u001b[32mcol_double()\u001b[39m,\n",
      "  nyears = \u001b[32mcol_double()\u001b[39m\n",
      ")\n"
     ]
    }
   ],
   "source": [
    "happiness.df <- read_csv(file=\"datasets/world-happiness/happiness.csv\")\n",
    "colnames(happiness.df) <- make.names(colnames(happiness.df) %>%  tolower)"
   ]
  },
  {
   "cell_type": "markdown",
   "metadata": {},
   "source": [
    "We can get the train-test split using createDataPartition from caret:"
   ]
  },
  {
   "cell_type": "code",
   "execution_count": 4,
   "metadata": {
    "ExecuteTime": {
     "end_time": "2019-11-17T17:13:28.132608Z",
     "start_time": "2019-11-17T17:13:28.103Z"
    }
   },
   "outputs": [],
   "source": [
    "happiness.df <- happiness.df %>% select_if(is_double) %>% select(-c(x1,happiness.rank))"
   ]
  },
  {
   "cell_type": "code",
   "execution_count": 5,
   "metadata": {
    "ExecuteTime": {
     "end_time": "2019-11-17T17:13:28.499699Z",
     "start_time": "2019-11-17T17:13:28.462Z"
    }
   },
   "outputs": [],
   "source": [
    "set.seed(42)\n",
    "trainIndex <- createDataPartition(happiness.df$`happiness.score`, p = 0.9, list = FALSE)\n",
    "happy.train <- happiness.df[ trainIndex,]\n",
    "happy.test  <- happiness.df[-trainIndex,]"
   ]
  },
  {
   "cell_type": "markdown",
   "metadata": {},
   "source": [
    "## bartMachine"
   ]
  },
  {
   "cell_type": "code",
   "execution_count": 6,
   "metadata": {
    "ExecuteTime": {
     "end_time": "2019-11-17T17:13:29.487035Z",
     "start_time": "2019-11-17T17:13:29.463Z"
    }
   },
   "outputs": [],
   "source": [
    "registerDoParallel(cl)"
   ]
  },
  {
   "cell_type": "markdown",
   "metadata": {},
   "source": [
    "Training: Run in 1hr 16 minutes on 4 cores:"
   ]
  },
  {
   "cell_type": "code",
   "execution_count": 8,
   "metadata": {
    "ExecuteTime": {
     "end_time": "2019-11-17T18:30:08.849858Z",
     "start_time": "2019-11-17T17:14:05.537Z"
    }
   },
   "outputs": [
    {
     "name": "stdout",
     "output_type": "stream",
     "text": [
      "bartMachine now using 4 cores.\n",
      "bartMachine initializing with 50 trees...\n",
      "bartMachine vars checked...\n",
      "bartMachine java init...\n",
      "bartMachine factors created...\n",
      "bartMachine before preprocess...\n",
      "bartMachine after preprocess... 10 total features...\n",
      "bartMachine sigsq estimated...\n",
      "bartMachine training data finalized...\n",
      "Now building bartMachine for regression ...\n",
      "evaluating in sample data...done\n"
     ]
    }
   ],
   "source": [
    "set_bart_machine_num_cores(4)\n",
    "happy.bm <- train(happiness.score ~ ., data = happy.train, \n",
    "                 method = \"bartMachine\", \n",
    "                 verbose = TRUE)"
   ]
  },
  {
   "cell_type": "code",
   "execution_count": null,
   "metadata": {},
   "outputs": [],
   "source": [
    "happy.bm <- loadRDS(\"model_files/bart_model_1.RDS\")"
   ]
  },
  {
   "cell_type": "code",
   "execution_count": 20,
   "metadata": {
    "ExecuteTime": {
     "end_time": "2019-11-17T18:51:49.451624Z",
     "start_time": "2019-11-17T18:51:49.417Z"
    }
   },
   "outputs": [
    {
     "name": "stdout",
     "output_type": "stream",
     "text": [
      "bartMachine v1.2.3 for regression\n",
      "\n",
      "training data n = 426 and p = 9 \n",
      "built in 2.2 secs on 4 cores, 50 trees, 250 burn-in and 1000 post. samples\n",
      "\n",
      "sigsq est for y beforehand: 0 \n",
      "avg sigsq estimate after burn-in: 0.00522 \n",
      "\n",
      "in-sample statistics:\n",
      " L1 = 11.39 \n",
      " L2 = 0.51 \n",
      " rmse = 0.03 \n",
      " Pseudo-Rsq = 0.9991\n",
      "p-val for shapiro-wilk test of normality of residuals: 0.00131 \n",
      "p-val for zero-mean noise: 0.93453 \n",
      "\n"
     ]
    }
   ],
   "source": [
    "summary(happy.bm)"
   ]
  },
  {
   "cell_type": "code",
   "execution_count": 14,
   "metadata": {
    "ExecuteTime": {
     "end_time": "2019-11-17T18:46:01.683130Z",
     "start_time": "2019-11-17T18:46:01.638Z"
    }
   },
   "outputs": [],
   "source": [
    "saveRDS(happy.bm,file = \"model_files/bart_model_1.RDS\")"
   ]
  },
  {
   "cell_type": "code",
   "execution_count": 18,
   "metadata": {
    "ExecuteTime": {
     "end_time": "2019-11-17T18:47:33.372762Z",
     "start_time": "2019-11-17T18:47:33.228Z"
    }
   },
   "outputs": [
    {
     "data": {
      "text/html": [
       "<ol class=list-inline>\n",
       "\t<li>6.88214747389344</li>\n",
       "\t<li>6.68163089181456</li>\n",
       "\t<li>6.60984960899958</li>\n",
       "\t<li>6.57130406591439</li>\n",
       "\t<li>6.44773294176036</li>\n",
       "\t<li>6.27234712449596</li>\n",
       "\t<li>5.84599129505744</li>\n",
       "\t<li>5.9319185282961</li>\n",
       "\t<li>5.88669059693845</li>\n",
       "\t<li>5.19125554756173</li>\n",
       "\t<li>4.96935871981116</li>\n",
       "\t<li>4.90866246905357</li>\n",
       "\t<li>4.52449396711169</li>\n",
       "\t<li>7.02021855856213</li>\n",
       "\t<li>6.64802631128716</li>\n",
       "\t<li>6.57126924344602</li>\n",
       "\t<li>6.2606816471237</li>\n",
       "\t<li>6.00274059783084</li>\n",
       "\t<li>6.00111345587218</li>\n",
       "\t<li>5.80843690498726</li>\n",
       "\t<li>5.53370787295814</li>\n",
       "\t<li>5.36792604331937</li>\n",
       "\t<li>5.23506327565435</li>\n",
       "\t<li>5.24004274924056</li>\n",
       "\t<li>4.31958827404799</li>\n",
       "\t<li>4.34801137852437</li>\n",
       "\t<li>4.13996340280975</li>\n",
       "\t<li>4.17610524491411</li>\n",
       "\t<li>3.93816318786142</li>\n",
       "\t<li>3.92497488137041</li>\n",
       "\t<li>3.87945221194215</li>\n",
       "\t<li>3.32817382481168</li>\n",
       "\t<li>6.88049918288857</li>\n",
       "\t<li>5.79263798102943</li>\n",
       "\t<li>5.76385374636902</li>\n",
       "\t<li>5.5524759476356</li>\n",
       "\t<li>5.3011958608649</li>\n",
       "\t<li>4.86708537851269</li>\n",
       "\t<li>4.81833528413696</li>\n",
       "\t<li>4.75515327714557</li>\n",
       "\t<li>4.52249800195268</li>\n",
       "\t<li>4.29427138042542</li>\n",
       "\t<li>4.28273375701561</li>\n",
       "\t<li>3.70327825197009</li>\n",
       "</ol>\n"
      ],
      "text/latex": [
       "\\begin{enumerate*}\n",
       "\\item 6.88214747389344\n",
       "\\item 6.68163089181456\n",
       "\\item 6.60984960899958\n",
       "\\item 6.57130406591439\n",
       "\\item 6.44773294176036\n",
       "\\item 6.27234712449596\n",
       "\\item 5.84599129505744\n",
       "\\item 5.9319185282961\n",
       "\\item 5.88669059693845\n",
       "\\item 5.19125554756173\n",
       "\\item 4.96935871981116\n",
       "\\item 4.90866246905357\n",
       "\\item 4.52449396711169\n",
       "\\item 7.02021855856213\n",
       "\\item 6.64802631128716\n",
       "\\item 6.57126924344602\n",
       "\\item 6.2606816471237\n",
       "\\item 6.00274059783084\n",
       "\\item 6.00111345587218\n",
       "\\item 5.80843690498726\n",
       "\\item 5.53370787295814\n",
       "\\item 5.36792604331937\n",
       "\\item 5.23506327565435\n",
       "\\item 5.24004274924056\n",
       "\\item 4.31958827404799\n",
       "\\item 4.34801137852437\n",
       "\\item 4.13996340280975\n",
       "\\item 4.17610524491411\n",
       "\\item 3.93816318786142\n",
       "\\item 3.92497488137041\n",
       "\\item 3.87945221194215\n",
       "\\item 3.32817382481168\n",
       "\\item 6.88049918288857\n",
       "\\item 5.79263798102943\n",
       "\\item 5.76385374636902\n",
       "\\item 5.5524759476356\n",
       "\\item 5.3011958608649\n",
       "\\item 4.86708537851269\n",
       "\\item 4.81833528413696\n",
       "\\item 4.75515327714557\n",
       "\\item 4.52249800195268\n",
       "\\item 4.29427138042542\n",
       "\\item 4.28273375701561\n",
       "\\item 3.70327825197009\n",
       "\\end{enumerate*}\n"
      ],
      "text/markdown": [
       "1. 6.88214747389344\n",
       "2. 6.68163089181456\n",
       "3. 6.60984960899958\n",
       "4. 6.57130406591439\n",
       "5. 6.44773294176036\n",
       "6. 6.27234712449596\n",
       "7. 5.84599129505744\n",
       "8. 5.9319185282961\n",
       "9. 5.88669059693845\n",
       "10. 5.19125554756173\n",
       "11. 4.96935871981116\n",
       "12. 4.90866246905357\n",
       "13. 4.52449396711169\n",
       "14. 7.02021855856213\n",
       "15. 6.64802631128716\n",
       "16. 6.57126924344602\n",
       "17. 6.2606816471237\n",
       "18. 6.00274059783084\n",
       "19. 6.00111345587218\n",
       "20. 5.80843690498726\n",
       "21. 5.53370787295814\n",
       "22. 5.36792604331937\n",
       "23. 5.23506327565435\n",
       "24. 5.24004274924056\n",
       "25. 4.31958827404799\n",
       "26. 4.34801137852437\n",
       "27. 4.13996340280975\n",
       "28. 4.17610524491411\n",
       "29. 3.93816318786142\n",
       "30. 3.92497488137041\n",
       "31. 3.87945221194215\n",
       "32. 3.32817382481168\n",
       "33. 6.88049918288857\n",
       "34. 5.79263798102943\n",
       "35. 5.76385374636902\n",
       "36. 5.5524759476356\n",
       "37. 5.3011958608649\n",
       "38. 4.86708537851269\n",
       "39. 4.81833528413696\n",
       "40. 4.75515327714557\n",
       "41. 4.52249800195268\n",
       "42. 4.29427138042542\n",
       "43. 4.28273375701561\n",
       "44. 3.70327825197009\n",
       "\n",
       "\n"
      ],
      "text/plain": [
       " [1] 6.882147 6.681631 6.609850 6.571304 6.447733 6.272347 5.845991 5.931919\n",
       " [9] 5.886691 5.191256 4.969359 4.908662 4.524494 7.020219 6.648026 6.571269\n",
       "[17] 6.260682 6.002741 6.001113 5.808437 5.533708 5.367926 5.235063 5.240043\n",
       "[25] 4.319588 4.348011 4.139963 4.176105 3.938163 3.924975 3.879452 3.328174\n",
       "[33] 6.880499 5.792638 5.763854 5.552476 5.301196 4.867085 4.818335 4.755153\n",
       "[41] 4.522498 4.294271 4.282734 3.703278"
      ]
     },
     "metadata": {},
     "output_type": "display_data"
    }
   ],
   "source": [
    "predict(happy.bm,newdata = happy.test)"
   ]
  },
  {
   "cell_type": "code",
   "execution_count": 19,
   "metadata": {
    "ExecuteTime": {
     "end_time": "2019-11-17T18:48:42.790805Z",
     "start_time": "2019-11-17T18:48:42.764Z"
    }
   },
   "outputs": [],
   "source": [
    "stopCluster(cl)"
   ]
  },
  {
   "cell_type": "code",
   "execution_count": 22,
   "metadata": {
    "ExecuteTime": {
     "end_time": "2019-11-17T18:53:05.779129Z",
     "start_time": "2019-11-17T18:53:02.713Z"
    }
   },
   "outputs": [
    {
     "name": "stdout",
     "output_type": "stream",
     "text": [
      ".....\n"
     ]
    },
    {
     "data": {
      "text/plain": [
       "bartMachine variable importance\n",
       "\n",
       "                              Overall\n",
       "dystopia.residual             100.000\n",
       "economy..gdp.per.capita.       63.081\n",
       "family                         59.979\n",
       "health..life.expectancy.       43.648\n",
       "freedom                        35.538\n",
       "generosity                     30.127\n",
       "trust..government.corruption.  25.618\n",
       "nyears                          1.962\n",
       "year                            0.000"
      ]
     },
     "metadata": {},
     "output_type": "display_data"
    }
   ],
   "source": [
    "varImp(happy.bm)"
   ]
  },
  {
   "cell_type": "code",
   "execution_count": null,
   "metadata": {},
   "outputs": [],
   "source": []
  }
 ],
 "metadata": {
  "kernelspec": {
   "display_name": "R",
   "language": "R",
   "name": "ir"
  },
  "toc": {
   "base_numbering": 1,
   "nav_menu": {},
   "number_sections": true,
   "sideBar": true,
   "skip_h1_title": false,
   "title_cell": "Table of Contents",
   "title_sidebar": "Contents",
   "toc_cell": false,
   "toc_position": {},
   "toc_section_display": true,
   "toc_window_display": false
  }
 },
 "nbformat": 4,
 "nbformat_minor": 2
}
