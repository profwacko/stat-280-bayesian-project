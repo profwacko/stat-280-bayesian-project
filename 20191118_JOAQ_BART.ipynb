{
 "cells": [
  {
   "cell_type": "markdown",
   "metadata": {},
   "source": [
    "# SETUP"
   ]
  },
  {
   "cell_type": "markdown",
   "metadata": {},
   "source": [
    "## Loading Library"
   ]
  },
  {
   "cell_type": "code",
   "execution_count": 24,
   "metadata": {
    "ExecuteTime": {
     "end_time": "2019-11-17T16:22:22.158165Z",
     "start_time": "2019-11-17T16:22:07.810Z"
    }
   },
   "outputs": [
    {
     "name": "stdout",
     "output_type": "stream",
     "text": [
      "\n",
      "The downloaded binary packages are in\n",
      "\t/var/folders/3m/sjt0668920l02fsx_ssqtg480000gn/T//Rtmphzr3mS/downloaded_packages\n"
     ]
    }
   ],
   "source": [
    "#install.packages(\"BART\")\n",
    "install.packages(\"doParallel\")\n",
    "library(BART)\n",
    "library(caret)\n",
    "library(tidyverse)"
   ]
  },
  {
   "cell_type": "code",
   "execution_count": 25,
   "metadata": {
    "ExecuteTime": {
     "end_time": "2019-11-17T16:24:25.106040Z",
     "start_time": "2019-11-17T16:24:23.854Z"
    }
   },
   "outputs": [
    {
     "name": "stderr",
     "output_type": "stream",
     "text": [
      "Loading required package: foreach\n",
      "\n",
      "Attaching package: ‘foreach’\n",
      "\n",
      "The following objects are masked from ‘package:purrr’:\n",
      "\n",
      "    accumulate, when\n",
      "\n",
      "Loading required package: iterators\n"
     ]
    },
    {
     "name": "stdout",
     "output_type": "stream",
     "text": [
      "[1] 4\n"
     ]
    }
   ],
   "source": [
    "#Include the parallel library. If the next line does not work, run install.packages(“parallel”) first\n",
    "library(parallel)\n",
    "library(doParallel)\n",
    "\n",
    "# Use the detectCores() function to find the number of cores in system\n",
    "n_cores <- detectCores()\n",
    "print(n_cores)\n",
    "cl <- makePSOCKcluster(4)"
   ]
  },
  {
   "cell_type": "markdown",
   "metadata": {},
   "source": [
    "## Loading Data"
   ]
  },
  {
   "cell_type": "code",
   "execution_count": 33,
   "metadata": {
    "ExecuteTime": {
     "end_time": "2019-11-17T16:28:34.159653Z",
     "start_time": "2019-11-17T16:28:18.316Z"
    }
   },
   "outputs": [
    {
     "name": "stderr",
     "output_type": "stream",
     "text": [
      "Warning message:\n",
      "“Missing column names filled in: 'X1' [1]”Parsed with column specification:\n",
      "cols(\n",
      "  X1 = \u001b[32mcol_double()\u001b[39m,\n",
      "  Country = \u001b[31mcol_character()\u001b[39m,\n",
      "  Region = \u001b[31mcol_character()\u001b[39m,\n",
      "  `Happiness Rank` = \u001b[32mcol_double()\u001b[39m,\n",
      "  `Happiness Score` = \u001b[32mcol_double()\u001b[39m,\n",
      "  `Economy (GDP per Capita)` = \u001b[32mcol_double()\u001b[39m,\n",
      "  Family = \u001b[32mcol_double()\u001b[39m,\n",
      "  `Health (Life Expectancy)` = \u001b[32mcol_double()\u001b[39m,\n",
      "  Freedom = \u001b[32mcol_double()\u001b[39m,\n",
      "  `Trust (Government Corruption)` = \u001b[32mcol_double()\u001b[39m,\n",
      "  Generosity = \u001b[32mcol_double()\u001b[39m,\n",
      "  `Dystopia Residual` = \u001b[32mcol_double()\u001b[39m,\n",
      "  year = \u001b[32mcol_double()\u001b[39m,\n",
      "  nyears = \u001b[32mcol_double()\u001b[39m\n",
      ")\n"
     ]
    }
   ],
   "source": [
    "happiness.df <- read_csv(file=\"datasets/world-happiness/happiness.csv\")\n",
    "colnames(happiness.df) <- make.names(colnames(happiness.df))"
   ]
  },
  {
   "cell_type": "markdown",
   "metadata": {},
   "source": [
    "We can get the train-test split using createDataPartition from caret:"
   ]
  },
  {
   "cell_type": "code",
   "execution_count": 33,
   "metadata": {
    "ExecuteTime": {
     "end_time": "2019-11-17T16:29:25.322343Z",
     "start_time": "2019-11-17T16:29:25.284Z"
    }
   },
   "outputs": [
    {
     "data": {
      "text/html": [
       "<table>\n",
       "<caption>A tibble: 5 × 14</caption>\n",
       "<thead>\n",
       "\t<tr><th scope=col>X1</th><th scope=col>Country</th><th scope=col>Region</th><th scope=col>Happiness.Rank</th><th scope=col>Happiness.Score</th><th scope=col>Economy..GDP.per.Capita.</th><th scope=col>Family</th><th scope=col>Health..Life.Expectancy.</th><th scope=col>Freedom</th><th scope=col>Trust..Government.Corruption.</th><th scope=col>Generosity</th><th scope=col>Dystopia.Residual</th><th scope=col>year</th><th scope=col>nyears</th></tr>\n",
       "\t<tr><th scope=col>&lt;dbl&gt;</th><th scope=col>&lt;chr&gt;</th><th scope=col>&lt;chr&gt;</th><th scope=col>&lt;dbl&gt;</th><th scope=col>&lt;dbl&gt;</th><th scope=col>&lt;dbl&gt;</th><th scope=col>&lt;dbl&gt;</th><th scope=col>&lt;dbl&gt;</th><th scope=col>&lt;dbl&gt;</th><th scope=col>&lt;dbl&gt;</th><th scope=col>&lt;dbl&gt;</th><th scope=col>&lt;dbl&gt;</th><th scope=col>&lt;dbl&gt;</th><th scope=col>&lt;dbl&gt;</th></tr>\n",
       "</thead>\n",
       "<tbody>\n",
       "\t<tr><td>1</td><td>Switzerland</td><td>Western Europe</td><td>1</td><td>7.587</td><td>1.39651</td><td>1.34951</td><td>0.94143</td><td>0.66557</td><td>0.41978</td><td>0.29678</td><td>2.51738</td><td>2015</td><td>3</td></tr>\n",
       "\t<tr><td>2</td><td>Iceland    </td><td>Western Europe</td><td>2</td><td>7.561</td><td>1.30232</td><td>1.40223</td><td>0.94784</td><td>0.62877</td><td>0.14145</td><td>0.43630</td><td>2.70201</td><td>2015</td><td>3</td></tr>\n",
       "\t<tr><td>3</td><td>Denmark    </td><td>Western Europe</td><td>3</td><td>7.527</td><td>1.32548</td><td>1.36058</td><td>0.87464</td><td>0.64938</td><td>0.48357</td><td>0.34139</td><td>2.49204</td><td>2015</td><td>3</td></tr>\n",
       "\t<tr><td>4</td><td>Norway     </td><td>Western Europe</td><td>4</td><td>7.522</td><td>1.45900</td><td>1.33095</td><td>0.88521</td><td>0.66973</td><td>0.36503</td><td>0.34699</td><td>2.46531</td><td>2015</td><td>3</td></tr>\n",
       "\t<tr><td>5</td><td>Canada     </td><td>North America </td><td>5</td><td>7.427</td><td>1.32629</td><td>1.32261</td><td>0.90563</td><td>0.63297</td><td>0.32957</td><td>0.45811</td><td>2.45176</td><td>2015</td><td>3</td></tr>\n",
       "</tbody>\n",
       "</table>\n"
      ],
      "text/latex": [
       "A tibble: 5 × 14\n",
       "\\begin{tabular}{r|llllllllllllll}\n",
       " X1 & Country & Region & Happiness.Rank & Happiness.Score & Economy..GDP.per.Capita. & Family & Health..Life.Expectancy. & Freedom & Trust..Government.Corruption. & Generosity & Dystopia.Residual & year & nyears\\\\\n",
       " <dbl> & <chr> & <chr> & <dbl> & <dbl> & <dbl> & <dbl> & <dbl> & <dbl> & <dbl> & <dbl> & <dbl> & <dbl> & <dbl>\\\\\n",
       "\\hline\n",
       "\t 1 & Switzerland & Western Europe & 1 & 7.587 & 1.39651 & 1.34951 & 0.94143 & 0.66557 & 0.41978 & 0.29678 & 2.51738 & 2015 & 3\\\\\n",
       "\t 2 & Iceland     & Western Europe & 2 & 7.561 & 1.30232 & 1.40223 & 0.94784 & 0.62877 & 0.14145 & 0.43630 & 2.70201 & 2015 & 3\\\\\n",
       "\t 3 & Denmark     & Western Europe & 3 & 7.527 & 1.32548 & 1.36058 & 0.87464 & 0.64938 & 0.48357 & 0.34139 & 2.49204 & 2015 & 3\\\\\n",
       "\t 4 & Norway      & Western Europe & 4 & 7.522 & 1.45900 & 1.33095 & 0.88521 & 0.66973 & 0.36503 & 0.34699 & 2.46531 & 2015 & 3\\\\\n",
       "\t 5 & Canada      & North America  & 5 & 7.427 & 1.32629 & 1.32261 & 0.90563 & 0.63297 & 0.32957 & 0.45811 & 2.45176 & 2015 & 3\\\\\n",
       "\\end{tabular}\n"
      ],
      "text/markdown": [
       "\n",
       "A tibble: 5 × 14\n",
       "\n",
       "| X1 &lt;dbl&gt; | Country &lt;chr&gt; | Region &lt;chr&gt; | Happiness.Rank &lt;dbl&gt; | Happiness.Score &lt;dbl&gt; | Economy..GDP.per.Capita. &lt;dbl&gt; | Family &lt;dbl&gt; | Health..Life.Expectancy. &lt;dbl&gt; | Freedom &lt;dbl&gt; | Trust..Government.Corruption. &lt;dbl&gt; | Generosity &lt;dbl&gt; | Dystopia.Residual &lt;dbl&gt; | year &lt;dbl&gt; | nyears &lt;dbl&gt; |\n",
       "|---|---|---|---|---|---|---|---|---|---|---|---|---|---|\n",
       "| 1 | Switzerland | Western Europe | 1 | 7.587 | 1.39651 | 1.34951 | 0.94143 | 0.66557 | 0.41978 | 0.29678 | 2.51738 | 2015 | 3 |\n",
       "| 2 | Iceland     | Western Europe | 2 | 7.561 | 1.30232 | 1.40223 | 0.94784 | 0.62877 | 0.14145 | 0.43630 | 2.70201 | 2015 | 3 |\n",
       "| 3 | Denmark     | Western Europe | 3 | 7.527 | 1.32548 | 1.36058 | 0.87464 | 0.64938 | 0.48357 | 0.34139 | 2.49204 | 2015 | 3 |\n",
       "| 4 | Norway      | Western Europe | 4 | 7.522 | 1.45900 | 1.33095 | 0.88521 | 0.66973 | 0.36503 | 0.34699 | 2.46531 | 2015 | 3 |\n",
       "| 5 | Canada      | North America  | 5 | 7.427 | 1.32629 | 1.32261 | 0.90563 | 0.63297 | 0.32957 | 0.45811 | 2.45176 | 2015 | 3 |\n",
       "\n"
      ],
      "text/plain": [
       "  X1 Country     Region         Happiness.Rank Happiness.Score\n",
       "1 1  Switzerland Western Europe 1              7.587          \n",
       "2 2  Iceland     Western Europe 2              7.561          \n",
       "3 3  Denmark     Western Europe 3              7.527          \n",
       "4 4  Norway      Western Europe 4              7.522          \n",
       "5 5  Canada      North America  5              7.427          \n",
       "  Economy..GDP.per.Capita. Family  Health..Life.Expectancy. Freedom\n",
       "1 1.39651                  1.34951 0.94143                  0.66557\n",
       "2 1.30232                  1.40223 0.94784                  0.62877\n",
       "3 1.32548                  1.36058 0.87464                  0.64938\n",
       "4 1.45900                  1.33095 0.88521                  0.66973\n",
       "5 1.32629                  1.32261 0.90563                  0.63297\n",
       "  Trust..Government.Corruption. Generosity Dystopia.Residual year nyears\n",
       "1 0.41978                       0.29678    2.51738           2015 3     \n",
       "2 0.14145                       0.43630    2.70201           2015 3     \n",
       "3 0.48357                       0.34139    2.49204           2015 3     \n",
       "4 0.36503                       0.34699    2.46531           2015 3     \n",
       "5 0.32957                       0.45811    2.45176           2015 3     "
      ]
     },
     "metadata": {},
     "output_type": "display_data"
    }
   ],
   "source": [
    "happiness.df %>% head(5)"
   ]
  },
  {
   "cell_type": "code",
   "execution_count": 20,
   "metadata": {
    "ExecuteTime": {
     "end_time": "2019-11-17T16:18:49.406011Z",
     "start_time": "2019-11-17T16:18:49.373Z"
    }
   },
   "outputs": [],
   "source": [
    "set.seed(42)\n",
    "trainIndex <- createDataPartition(happiness.df$`Happiness Score`, p = 0.9, list = FALSE)\n",
    "happy.train <- happiness.df[ trainIndex,]\n",
    "happy.test  <- happiness.df[-trainIndex,]"
   ]
  },
  {
   "cell_type": "markdown",
   "metadata": {},
   "source": [
    "## bartMachine"
   ]
  },
  {
   "cell_type": "code",
   "execution_count": 26,
   "metadata": {
    "ExecuteTime": {
     "end_time": "2019-11-17T16:26:25.112238Z",
     "start_time": "2019-11-17T16:26:25.087Z"
    }
   },
   "outputs": [],
   "source": [
    "registerDoParallel(cl)"
   ]
  },
  {
   "cell_type": "code",
   "execution_count": 28,
   "metadata": {
    "ExecuteTime": {
     "end_time": "2019-11-17T16:26:31.786311Z",
     "start_time": "2019-11-17T16:26:31.731Z"
    }
   },
   "outputs": [
    {
     "ename": "ERROR",
     "evalue": "Error in terms.formula(formula, data = data): invalid term in model formula\n",
     "output_type": "error",
     "traceback": [
      "Error in terms.formula(formula, data = data): invalid term in model formula\nTraceback:\n",
      "1. train(\"Happiness Score\" ~ ., data = happy.train, method = \"bartMachine\", \n .     verbose = TRUE)",
      "2. train.formula(\"Happiness Score\" ~ ., data = happy.train, method = \"bartMachine\", \n .     verbose = TRUE)",
      "3. eval.parent(m)",
      "4. eval(expr, p)",
      "5. eval(expr, p)",
      "6. stats::model.frame(form = \"Happiness Score\" ~ ., data = happy.train, \n .     na.action = na.fail)",
      "7. model.frame.default(form = \"Happiness Score\" ~ ., data = happy.train, \n .     na.action = na.fail)",
      "8. terms(formula, data = data)",
      "9. terms.formula(formula, data = data)"
     ]
    }
   ],
   "source": [
    "happy.bm <- train(\"Happiness Score\" ~ ., data = happy.train, \n",
    "                 method = \"bartMachine\", \n",
    "                 verbose = TRUE)"
   ]
  },
  {
   "cell_type": "code",
   "execution_count": null,
   "metadata": {},
   "outputs": [],
   "source": []
  }
 ],
 "metadata": {
  "kernelspec": {
   "display_name": "R",
   "language": "R",
   "name": "ir"
  },
  "language_info": {
   "codemirror_mode": "r",
   "file_extension": ".r",
   "mimetype": "text/x-r-source",
   "name": "R",
   "pygments_lexer": "r",
   "version": "3.6.0"
  },
  "toc": {
   "base_numbering": 1,
   "nav_menu": {},
   "number_sections": true,
   "sideBar": true,
   "skip_h1_title": false,
   "title_cell": "Table of Contents",
   "title_sidebar": "Contents",
   "toc_cell": false,
   "toc_position": {},
   "toc_section_display": true,
   "toc_window_display": false
  }
 },
 "nbformat": 4,
 "nbformat_minor": 2
}
